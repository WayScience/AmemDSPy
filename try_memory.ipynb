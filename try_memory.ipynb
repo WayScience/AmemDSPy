{
 "cells": [
  {
   "cell_type": "code",
   "execution_count": 1,
   "metadata": {},
   "outputs": [],
   "source": [
    "import pathlib\n",
    "\n",
    "from agentic_memory.retrievers import PersistentChromaRetriever, CopiedChromaRetriever\n",
    "from agentic_memory.memory_system import (\n",
    "    MemoryNote,\n",
    "    AgenticMemorySystem\n",
    ")"
   ]
  },
  {
   "cell_type": "code",
   "execution_count": 2,
   "metadata": {},
   "outputs": [],
   "source": [
    "retriever = PersistentChromaRetriever(\n",
    "    directory=None,\n",
    "    collection_name=\"test_collection\",\n",
    "    model_name=\"all-MiniLM-L6-v2\",\n",
    "    extend=True\n",
    ")\n",
    "retriever.client.delete_collection(name='test_collection') \n",
    "retriever.collection = retriever.client.create_collection(\n",
    "    name='test_collection',\n",
    "    embedding_function=retriever.embedding_function\n",
    ")\n",
    "\n",
    "retriever.collection.add(\n",
    "    ids=['a', 'b', 'c'],\n",
    "    documents=['A is for apple.', 'B is for banana.', 'C is for cherry.'],\n",
    ")"
   ]
  },
  {
   "cell_type": "code",
   "execution_count": 3,
   "metadata": {},
   "outputs": [],
   "source": [
    "copied_retriever = CopiedChromaRetriever(\n",
    "    collection_name=\"test_collection\",\n",
    "    model_name=\"all-MiniLM-L6-v2\",\n",
    ")"
   ]
  },
  {
   "cell_type": "code",
   "execution_count": 4,
   "metadata": {},
   "outputs": [
    {
     "data": {
      "text/plain": [
       "{'ids': ['a', 'b', 'c'],\n",
       " 'embeddings': None,\n",
       " 'documents': ['A is for apple.', 'B is for banana.', 'C is for cherry.'],\n",
       " 'uris': None,\n",
       " 'included': ['metadatas', 'documents'],\n",
       " 'data': None,\n",
       " 'metadatas': [None, None, None]}"
      ]
     },
     "execution_count": 4,
     "metadata": {},
     "output_type": "execute_result"
    }
   ],
   "source": [
    "copied_retriever.collection.get()"
   ]
  },
  {
   "cell_type": "code",
   "execution_count": 5,
   "metadata": {},
   "outputs": [
    {
     "data": {
      "text/plain": [
       "{'ids': ['a', 'b', 'c', 'd', 'e'],\n",
       " 'embeddings': None,\n",
       " 'documents': ['A is for apple.',\n",
       "  'B is for banana.',\n",
       "  'C is for cherry.',\n",
       "  'D is for date.',\n",
       "  'E is for elderberry.'],\n",
       " 'uris': None,\n",
       " 'included': ['metadatas', 'documents'],\n",
       " 'data': None,\n",
       " 'metadatas': [None, None, None, None, None]}"
      ]
     },
     "execution_count": 5,
     "metadata": {},
     "output_type": "execute_result"
    }
   ],
   "source": [
    "copied_retriever.collection.add(\n",
    "    ids=['d', 'e'],\n",
    "    documents=['D is for date.', 'E is for elderberry.'],\n",
    ")\n",
    "copied_retriever.collection.get()"
   ]
  },
  {
   "cell_type": "code",
   "execution_count": 6,
   "metadata": {},
   "outputs": [
    {
     "data": {
      "text/plain": [
       "{'ids': ['a', 'b', 'c'],\n",
       " 'embeddings': None,\n",
       " 'documents': ['A is for apple.', 'B is for banana.', 'C is for cherry.'],\n",
       " 'uris': None,\n",
       " 'included': ['metadatas', 'documents'],\n",
       " 'data': None,\n",
       " 'metadatas': [None, None, None]}"
      ]
     },
     "execution_count": 6,
     "metadata": {},
     "output_type": "execute_result"
    }
   ],
   "source": [
    "retriever.collection.get()"
   ]
  },
  {
   "cell_type": "code",
   "execution_count": 7,
   "metadata": {},
   "outputs": [],
   "source": [
    "copied_retriever.close()"
   ]
  },
  {
   "cell_type": "code",
   "execution_count": 2,
   "metadata": {},
   "outputs": [],
   "source": [
    "retriever = PersistentChromaRetriever(\n",
    "    directory=None,\n",
    "    collection_name=\"test_collection\",\n",
    "    model_name=\"all-MiniLM-L6-v2\",\n",
    "    extend=True\n",
    ")\n",
    "retriever.client.delete_collection(name='test_collection') \n",
    "retriever.collection = retriever.client.create_collection(\n",
    "    name='test_collection',\n",
    "    embedding_function=retriever.embedding_function\n",
    ")"
   ]
  },
  {
   "cell_type": "code",
   "execution_count": 3,
   "metadata": {},
   "outputs": [],
   "source": [
    "memory_system = AgenticMemorySystem(\n",
    "    retriever=retriever\n",
    ")"
   ]
  },
  {
   "cell_type": "code",
   "execution_count": 4,
   "metadata": {},
   "outputs": [
    {
     "data": {
      "text/plain": [
       "{'ids': [],\n",
       " 'embeddings': None,\n",
       " 'documents': [],\n",
       " 'uris': None,\n",
       " 'included': ['metadatas', 'documents'],\n",
       " 'data': None,\n",
       " 'metadatas': []}"
      ]
     },
     "execution_count": 4,
     "metadata": {},
     "output_type": "execute_result"
    }
   ],
   "source": [
    "memory_system.retriever.collection.get()"
   ]
  },
  {
   "cell_type": "code",
   "execution_count": 5,
   "metadata": {},
   "outputs": [],
   "source": [
    "content = 'Apples are red'\n",
    "keywords = ['fruit', 'color']\n",
    "\n",
    "note = MemoryNote(\n",
    "    content=content,\n",
    "    keywords=keywords,\n",
    ")"
   ]
  },
  {
   "cell_type": "code",
   "execution_count": 6,
   "metadata": {},
   "outputs": [
    {
     "data": {
      "text/plain": [
       "MemoryNote(content='Apples are red', id='ee40219a-f04e-4410-b691-d05aa62cbdfe', keywords=['fruit', 'color'], retrieval_count=0, timestamp='202510161114', last_accessed='202510161114', context='General', category='Uncategorized', tags=[], extras={})"
      ]
     },
     "execution_count": 6,
     "metadata": {},
     "output_type": "execute_result"
    }
   ],
   "source": [
    "note"
   ]
  },
  {
   "cell_type": "code",
   "execution_count": 7,
   "metadata": {},
   "outputs": [
    {
     "data": {
      "text/plain": [
       "MemoryNote(content='Apples are red', id='78782681-104d-4ef4-bbba-ec0f7558e2d9', keywords=['fruit', 'color'], retrieval_count=0, timestamp='202510161114', last_accessed='202510161114', context='General', category='Uncategorized', tags=[], extras={'drug': 'Barlib', 'cell': 'U2OS'})"
      ]
     },
     "execution_count": 7,
     "metadata": {},
     "output_type": "execute_result"
    }
   ],
   "source": [
    "note_with_extras = MemoryNote(\n",
    "    content=content,\n",
    "    keywords=keywords,\n",
    "    drug='Barlib',\n",
    "    cell='U2OS'\n",
    ")\n",
    "\n",
    "note_with_extras"
   ]
  },
  {
   "cell_type": "code",
   "execution_count": 8,
   "metadata": {},
   "outputs": [
    {
     "name": "stdout",
     "output_type": "stream",
     "text": [
      "Note added with ID: c8b56747-a89d-4be8-a88d-583249ba356c\n"
     ]
    }
   ],
   "source": [
    "id = memory_system.add_note(\n",
    "    content='Apples are red',\n",
    "    keywords=['fruit', 'color'],    \n",
    ")\n",
    "print(f\"Note added with ID: {id}\")"
   ]
  },
  {
   "cell_type": "code",
   "execution_count": 9,
   "metadata": {},
   "outputs": [
    {
     "data": {
      "text/plain": [
       "{'ids': ['c8b56747-a89d-4be8-a88d-583249ba356c'],\n",
       " 'embeddings': None,\n",
       " 'documents': ['Apples are red'],\n",
       " 'uris': None,\n",
       " 'included': ['metadatas', 'documents'],\n",
       " 'data': None,\n",
       " 'metadatas': [{'extras': '{}',\n",
       "   'content': 'Apples are red',\n",
       "   'tags': '[]',\n",
       "   'keywords': '[\"fruit\", \"color\"]',\n",
       "   'retrieval_count': '0',\n",
       "   'timestamp': '202510161114',\n",
       "   'context': 'General',\n",
       "   'category': 'Uncategorized',\n",
       "   'id': 'c8b56747-a89d-4be8-a88d-583249ba356c',\n",
       "   'last_accessed': '202510161114'}]}"
      ]
     },
     "execution_count": 9,
     "metadata": {},
     "output_type": "execute_result"
    }
   ],
   "source": [
    "memory_system.retriever.collection.get()"
   ]
  },
  {
   "cell_type": "code",
   "execution_count": null,
   "metadata": {},
   "outputs": [
    {
     "name": "stdout",
     "output_type": "stream",
     "text": [
      "Note added with ID: eb19ed6f-7ccf-4ce3-a3d9-e91a96192f72\n"
     ]
    }
   ],
   "source": [
    "id2 = memory_system.add_note(\n",
    "    content='IC50 of Barlib in U2OS is 5uM',\n",
    "    keywords=['IC50'],\n",
    "    drug='Barlib',\n",
    "    cell='U2OS'    \n",
    ")\n",
    "print(f\"Note added with ID: {id2}\")"
   ]
  },
  {
   "cell_type": "code",
   "execution_count": 11,
   "metadata": {},
   "outputs": [
    {
     "data": {
      "text/plain": [
       "{'ids': [['c8b56747-a89d-4be8-a88d-583249ba356c',\n",
       "   'eb19ed6f-7ccf-4ce3-a3d9-e91a96192f72']],\n",
       " 'embeddings': None,\n",
       " 'documents': [['Apples are red', 'IC50 of Barlib in U2OS is 5uM']],\n",
       " 'uris': None,\n",
       " 'included': ['metadatas', 'documents', 'distances'],\n",
       " 'data': None,\n",
       " 'metadatas': [[{'extras': {},\n",
       "    'timestamp': 202510161114,\n",
       "    'context': 'General',\n",
       "    'tags': [],\n",
       "    'retrieval_count': 0,\n",
       "    'keywords': ['fruit', 'color'],\n",
       "    'category': 'Uncategorized',\n",
       "    'last_accessed': 202510161114,\n",
       "    'content': 'Apples are red',\n",
       "    'id': 'c8b56747-a89d-4be8-a88d-583249ba356c'},\n",
       "   {'category': 'Uncategorized',\n",
       "    'content': 'IC50 of Barlib in U2OS is 5uM',\n",
       "    'retrieval_count': 0,\n",
       "    'tags': [],\n",
       "    'extras': {'drug': 'Barlib', 'cell': 'U2OS'},\n",
       "    'keywords': ['IC50'],\n",
       "    'context': 'General',\n",
       "    'last_accessed': 202510161114,\n",
       "    'id': 'eb19ed6f-7ccf-4ce3-a3d9-e91a96192f72',\n",
       "    'timestamp': 202510161114}]],\n",
       " 'distances': [[0.48444879055023193, 0.9217631816864014]]}"
      ]
     },
     "execution_count": 11,
     "metadata": {},
     "output_type": "execute_result"
    }
   ],
   "source": [
    "memory_system.retriever.search(\n",
    "    query='apple',\n",
    ")"
   ]
  },
  {
   "cell_type": "code",
   "execution_count": 12,
   "metadata": {},
   "outputs": [
    {
     "data": {
      "text/plain": [
       "[{'content': 'Apples are red',\n",
       "  'id': 'c8b56747-a89d-4be8-a88d-583249ba356c',\n",
       "  'keywords': ['fruit', 'color'],\n",
       "  'retrieval_count': 0,\n",
       "  'timestamp': '202510161114',\n",
       "  'last_accessed': '202510161114',\n",
       "  'context': 'General',\n",
       "  'category': 'Uncategorized',\n",
       "  'tags': [],\n",
       "  'extras': {}}]"
      ]
     },
     "execution_count": 12,
     "metadata": {},
     "output_type": "execute_result"
    }
   ],
   "source": [
    "memory_system.search(\n",
    "    query='apple',\n",
    "    k=5\n",
    ")"
   ]
  },
  {
   "cell_type": "code",
   "execution_count": 13,
   "metadata": {},
   "outputs": [
    {
     "data": {
      "text/plain": [
       "['eb19ed6f-7ccf-4ce3-a3d9-e91a96192f72']"
      ]
     },
     "execution_count": 13,
     "metadata": {},
     "output_type": "execute_result"
    }
   ],
   "source": [
    "memory_system._filter_by_keywords(\n",
    "    filter_keywords={\n",
    "        'drug': 'Barlib',\n",
    "        'cell': 'U2OS'\n",
    "    }\n",
    ")"
   ]
  },
  {
   "cell_type": "code",
   "execution_count": 14,
   "metadata": {},
   "outputs": [
    {
     "data": {
      "text/plain": [
       "[{'content': 'IC50 of Barlib in U2OS is 5uM',\n",
       "  'id': 'eb19ed6f-7ccf-4ce3-a3d9-e91a96192f72',\n",
       "  'keywords': ['IC50'],\n",
       "  'retrieval_count': 0,\n",
       "  'timestamp': '202510161114',\n",
       "  'last_accessed': '202510161114',\n",
       "  'context': 'General',\n",
       "  'category': 'Uncategorized',\n",
       "  'tags': [],\n",
       "  'extras': {'drug': 'Barlib', 'cell': 'U2OS'}}]"
      ]
     },
     "execution_count": 14,
     "metadata": {},
     "output_type": "execute_result"
    }
   ],
   "source": [
    "memory_system.search(\n",
    "    query='IC50',\n",
    "    k=5,\n",
    "    drug='Barlib',\n",
    "    cell='U2OS'\n",
    ")"
   ]
  },
  {
   "cell_type": "code",
   "execution_count": 15,
   "metadata": {},
   "outputs": [
    {
     "data": {
      "text/plain": [
       "[0.48444879055023193, 0.9217631816864014]"
      ]
     },
     "execution_count": 15,
     "metadata": {},
     "output_type": "execute_result"
    }
   ],
   "source": [
    "memory_system.retriever.search(\n",
    "    query='apple',\n",
    ")['distances'][0]"
   ]
  }
 ],
 "metadata": {
  "kernelspec": {
   "display_name": ".venv",
   "language": "python",
   "name": "python3"
  },
  "language_info": {
   "codemirror_mode": {
    "name": "ipython",
    "version": 3
   },
   "file_extension": ".py",
   "mimetype": "text/x-python",
   "name": "python",
   "nbconvert_exporter": "python",
   "pygments_lexer": "ipython3",
   "version": "3.12.7"
  }
 },
 "nbformat": 4,
 "nbformat_minor": 2
}
